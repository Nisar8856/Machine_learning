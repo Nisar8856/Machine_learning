{
  "nbformat": 4,
  "nbformat_minor": 0,
  "metadata": {
    "colab": {
      "provenance": []
    },
    "kernelspec": {
      "name": "python3",
      "display_name": "Python 3"
    },
    "language_info": {
      "name": "python"
    }
  },
  "cells": [
    {
      "cell_type": "markdown",
      "source": [
        "# Linear Regression with Python\n",
        "\n",
        "Your neighbor is a real estate agent and wants some help predicting housing prices for regions in the USA. It would be great if you could somehow create a model for her that allows her to put in a few features of a house and returns back an estimate of what the house would sell for.\n",
        "\n",
        "She has asked you if you could help her out with your new data science skills. You say yes, and decide that Linear Regression might be a good path to solve this problem!\n",
        "\n",
        "Your neighbor then gives you some information about a bunch of houses in regions of the United States,it is all in the data set: USA_Housing.csv.\n",
        "\n",
        "The data contains the following columns:\n",
        "\n",
        "* 'Avg. Area Income': Avg. Income of residents of the city house is located in.\n",
        "* 'Avg. Area House Age': Avg Age of Houses in same city\n",
        "* 'Avg. Area Number of Rooms': Avg Number of Rooms for Houses in same city\n",
        "* 'Avg. Area Number of Bedrooms': Avg Number of Bedrooms for Houses in same city\n",
        "* 'Area Population': Population of city house is located in\n",
        "* 'Price': Price that the house sold at\n",
        "* 'Address': Address for the house"
      ],
      "metadata": {
        "id": "f_J0FJwdCSTc"
      }
    },
    {
      "cell_type": "markdown",
      "source": [
        "Import libraries"
      ],
      "metadata": {
        "id": "cxKEfbN7Dti9"
      }
    },
    {
      "cell_type": "code",
      "source": [
        "import numpy as np\n",
        "import pandas as pd\n",
        "import matplotlib.pyplot as plt\n",
        "import seaborn as sns"
      ],
      "metadata": {
        "id": "-FwAyFN-CSqt"
      },
      "execution_count": 1,
      "outputs": []
    },
    {
      "cell_type": "markdown",
      "source": [
        "Upload dataset in colab session"
      ],
      "metadata": {
        "id": "xcT8RGEIDvZL"
      }
    },
    {
      "cell_type": "code",
      "source": [
        "from google.colab import files\n",
        "data = files.upload()"
      ],
      "metadata": {
        "colab": {
          "base_uri": "https://localhost:8080/",
          "height": 73
        },
        "id": "NfrbdsyJDeOU",
        "outputId": "7d845b81-fb35-41a8-a34a-86b7c88580d7"
      },
      "execution_count": 2,
      "outputs": [
        {
          "output_type": "display_data",
          "data": {
            "text/plain": [
              "<IPython.core.display.HTML object>"
            ],
            "text/html": [
              "\n",
              "     <input type=\"file\" id=\"files-1c0ea006-c188-42e5-8692-e50273aae9b6\" name=\"files[]\" multiple disabled\n",
              "        style=\"border:none\" />\n",
              "     <output id=\"result-1c0ea006-c188-42e5-8692-e50273aae9b6\">\n",
              "      Upload widget is only available when the cell has been executed in the\n",
              "      current browser session. Please rerun this cell to enable.\n",
              "      </output>\n",
              "      <script>// Copyright 2017 Google LLC\n",
              "//\n",
              "// Licensed under the Apache License, Version 2.0 (the \"License\");\n",
              "// you may not use this file except in compliance with the License.\n",
              "// You may obtain a copy of the License at\n",
              "//\n",
              "//      http://www.apache.org/licenses/LICENSE-2.0\n",
              "//\n",
              "// Unless required by applicable law or agreed to in writing, software\n",
              "// distributed under the License is distributed on an \"AS IS\" BASIS,\n",
              "// WITHOUT WARRANTIES OR CONDITIONS OF ANY KIND, either express or implied.\n",
              "// See the License for the specific language governing permissions and\n",
              "// limitations under the License.\n",
              "\n",
              "/**\n",
              " * @fileoverview Helpers for google.colab Python module.\n",
              " */\n",
              "(function(scope) {\n",
              "function span(text, styleAttributes = {}) {\n",
              "  const element = document.createElement('span');\n",
              "  element.textContent = text;\n",
              "  for (const key of Object.keys(styleAttributes)) {\n",
              "    element.style[key] = styleAttributes[key];\n",
              "  }\n",
              "  return element;\n",
              "}\n",
              "\n",
              "// Max number of bytes which will be uploaded at a time.\n",
              "const MAX_PAYLOAD_SIZE = 100 * 1024;\n",
              "\n",
              "function _uploadFiles(inputId, outputId) {\n",
              "  const steps = uploadFilesStep(inputId, outputId);\n",
              "  const outputElement = document.getElementById(outputId);\n",
              "  // Cache steps on the outputElement to make it available for the next call\n",
              "  // to uploadFilesContinue from Python.\n",
              "  outputElement.steps = steps;\n",
              "\n",
              "  return _uploadFilesContinue(outputId);\n",
              "}\n",
              "\n",
              "// This is roughly an async generator (not supported in the browser yet),\n",
              "// where there are multiple asynchronous steps and the Python side is going\n",
              "// to poll for completion of each step.\n",
              "// This uses a Promise to block the python side on completion of each step,\n",
              "// then passes the result of the previous step as the input to the next step.\n",
              "function _uploadFilesContinue(outputId) {\n",
              "  const outputElement = document.getElementById(outputId);\n",
              "  const steps = outputElement.steps;\n",
              "\n",
              "  const next = steps.next(outputElement.lastPromiseValue);\n",
              "  return Promise.resolve(next.value.promise).then((value) => {\n",
              "    // Cache the last promise value to make it available to the next\n",
              "    // step of the generator.\n",
              "    outputElement.lastPromiseValue = value;\n",
              "    return next.value.response;\n",
              "  });\n",
              "}\n",
              "\n",
              "/**\n",
              " * Generator function which is called between each async step of the upload\n",
              " * process.\n",
              " * @param {string} inputId Element ID of the input file picker element.\n",
              " * @param {string} outputId Element ID of the output display.\n",
              " * @return {!Iterable<!Object>} Iterable of next steps.\n",
              " */\n",
              "function* uploadFilesStep(inputId, outputId) {\n",
              "  const inputElement = document.getElementById(inputId);\n",
              "  inputElement.disabled = false;\n",
              "\n",
              "  const outputElement = document.getElementById(outputId);\n",
              "  outputElement.innerHTML = '';\n",
              "\n",
              "  const pickedPromise = new Promise((resolve) => {\n",
              "    inputElement.addEventListener('change', (e) => {\n",
              "      resolve(e.target.files);\n",
              "    });\n",
              "  });\n",
              "\n",
              "  const cancel = document.createElement('button');\n",
              "  inputElement.parentElement.appendChild(cancel);\n",
              "  cancel.textContent = 'Cancel upload';\n",
              "  const cancelPromise = new Promise((resolve) => {\n",
              "    cancel.onclick = () => {\n",
              "      resolve(null);\n",
              "    };\n",
              "  });\n",
              "\n",
              "  // Wait for the user to pick the files.\n",
              "  const files = yield {\n",
              "    promise: Promise.race([pickedPromise, cancelPromise]),\n",
              "    response: {\n",
              "      action: 'starting',\n",
              "    }\n",
              "  };\n",
              "\n",
              "  cancel.remove();\n",
              "\n",
              "  // Disable the input element since further picks are not allowed.\n",
              "  inputElement.disabled = true;\n",
              "\n",
              "  if (!files) {\n",
              "    return {\n",
              "      response: {\n",
              "        action: 'complete',\n",
              "      }\n",
              "    };\n",
              "  }\n",
              "\n",
              "  for (const file of files) {\n",
              "    const li = document.createElement('li');\n",
              "    li.append(span(file.name, {fontWeight: 'bold'}));\n",
              "    li.append(span(\n",
              "        `(${file.type || 'n/a'}) - ${file.size} bytes, ` +\n",
              "        `last modified: ${\n",
              "            file.lastModifiedDate ? file.lastModifiedDate.toLocaleDateString() :\n",
              "                                    'n/a'} - `));\n",
              "    const percent = span('0% done');\n",
              "    li.appendChild(percent);\n",
              "\n",
              "    outputElement.appendChild(li);\n",
              "\n",
              "    const fileDataPromise = new Promise((resolve) => {\n",
              "      const reader = new FileReader();\n",
              "      reader.onload = (e) => {\n",
              "        resolve(e.target.result);\n",
              "      };\n",
              "      reader.readAsArrayBuffer(file);\n",
              "    });\n",
              "    // Wait for the data to be ready.\n",
              "    let fileData = yield {\n",
              "      promise: fileDataPromise,\n",
              "      response: {\n",
              "        action: 'continue',\n",
              "      }\n",
              "    };\n",
              "\n",
              "    // Use a chunked sending to avoid message size limits. See b/62115660.\n",
              "    let position = 0;\n",
              "    do {\n",
              "      const length = Math.min(fileData.byteLength - position, MAX_PAYLOAD_SIZE);\n",
              "      const chunk = new Uint8Array(fileData, position, length);\n",
              "      position += length;\n",
              "\n",
              "      const base64 = btoa(String.fromCharCode.apply(null, chunk));\n",
              "      yield {\n",
              "        response: {\n",
              "          action: 'append',\n",
              "          file: file.name,\n",
              "          data: base64,\n",
              "        },\n",
              "      };\n",
              "\n",
              "      let percentDone = fileData.byteLength === 0 ?\n",
              "          100 :\n",
              "          Math.round((position / fileData.byteLength) * 100);\n",
              "      percent.textContent = `${percentDone}% done`;\n",
              "\n",
              "    } while (position < fileData.byteLength);\n",
              "  }\n",
              "\n",
              "  // All done.\n",
              "  yield {\n",
              "    response: {\n",
              "      action: 'complete',\n",
              "    }\n",
              "  };\n",
              "}\n",
              "\n",
              "scope.google = scope.google || {};\n",
              "scope.google.colab = scope.google.colab || {};\n",
              "scope.google.colab._files = {\n",
              "  _uploadFiles,\n",
              "  _uploadFilesContinue,\n",
              "};\n",
              "})(self);\n",
              "</script> "
            ]
          },
          "metadata": {}
        },
        {
          "output_type": "stream",
          "name": "stdout",
          "text": [
            "Saving USA_Housing.csv to USA_Housing.csv\n"
          ]
        }
      ]
    },
    {
      "cell_type": "markdown",
      "source": [
        "Load dataset (data file) in dataframe"
      ],
      "metadata": {
        "id": "kWTnB-XvDx0i"
      }
    },
    {
      "cell_type": "code",
      "source": [
        "df = pd.read_csv(\"USA_Housing.csv\")"
      ],
      "metadata": {
        "id": "tSEDXbD_DmoM"
      },
      "execution_count": 3,
      "outputs": []
    },
    {
      "cell_type": "code",
      "source": [
        "df.info()"
      ],
      "metadata": {
        "colab": {
          "base_uri": "https://localhost:8080/"
        },
        "id": "yhU5lNrFEw2O",
        "outputId": "94e2e7c3-48f9-4784-8458-a4a77f911a96"
      },
      "execution_count": 5,
      "outputs": [
        {
          "output_type": "stream",
          "name": "stdout",
          "text": [
            "<class 'pandas.core.frame.DataFrame'>\n",
            "RangeIndex: 5000 entries, 0 to 4999\n",
            "Data columns (total 7 columns):\n",
            " #   Column                        Non-Null Count  Dtype  \n",
            "---  ------                        --------------  -----  \n",
            " 0   Avg. Area Income              5000 non-null   float64\n",
            " 1   Avg. Area House Age           5000 non-null   float64\n",
            " 2   Avg. Area Number of Rooms     5000 non-null   float64\n",
            " 3   Avg. Area Number of Bedrooms  5000 non-null   float64\n",
            " 4   Area Population               5000 non-null   float64\n",
            " 5   Price                         5000 non-null   float64\n",
            " 6   Address                       5000 non-null   object \n",
            "dtypes: float64(6), object(1)\n",
            "memory usage: 273.6+ KB\n"
          ]
        }
      ]
    },
    {
      "cell_type": "code",
      "source": [
        "df.head()"
      ],
      "metadata": {
        "colab": {
          "base_uri": "https://localhost:8080/",
          "height": 275
        },
        "id": "ZqZQ4x4UExw9",
        "outputId": "a6ccce3d-d0f7-4f5e-da00-6f999c3b9663"
      },
      "execution_count": 6,
      "outputs": [
        {
          "output_type": "execute_result",
          "data": {
            "text/plain": [
              "   Avg. Area Income  Avg. Area House Age  Avg. Area Number of Rooms  \\\n",
              "0       79545.45857             5.682861                   7.009188   \n",
              "1       79248.64245             6.002900                   6.730821   \n",
              "2       61287.06718             5.865890                   8.512727   \n",
              "3       63345.24005             7.188236                   5.586729   \n",
              "4       59982.19723             5.040555                   7.839388   \n",
              "\n",
              "   Avg. Area Number of Bedrooms  Area Population         Price  \\\n",
              "0                          4.09      23086.80050  1.059034e+06   \n",
              "1                          3.09      40173.07217  1.505891e+06   \n",
              "2                          5.13      36882.15940  1.058988e+06   \n",
              "3                          3.26      34310.24283  1.260617e+06   \n",
              "4                          4.23      26354.10947  6.309435e+05   \n",
              "\n",
              "                                             Address  \n",
              "0  208 Michael Ferry Apt. 674\\nLaurabury, NE 3701...  \n",
              "1  188 Johnson Views Suite 079\\nLake Kathleen, CA...  \n",
              "2  9127 Elizabeth Stravenue\\nDanieltown, WI 06482...  \n",
              "3                          USS Barnett\\nFPO AP 44820  \n",
              "4                         USNS Raymond\\nFPO AE 09386  "
            ],
            "text/html": [
              "\n",
              "  <div id=\"df-02d3c7c3-45e8-41df-9259-e9caf4466bce\" class=\"colab-df-container\">\n",
              "    <div>\n",
              "<style scoped>\n",
              "    .dataframe tbody tr th:only-of-type {\n",
              "        vertical-align: middle;\n",
              "    }\n",
              "\n",
              "    .dataframe tbody tr th {\n",
              "        vertical-align: top;\n",
              "    }\n",
              "\n",
              "    .dataframe thead th {\n",
              "        text-align: right;\n",
              "    }\n",
              "</style>\n",
              "<table border=\"1\" class=\"dataframe\">\n",
              "  <thead>\n",
              "    <tr style=\"text-align: right;\">\n",
              "      <th></th>\n",
              "      <th>Avg. Area Income</th>\n",
              "      <th>Avg. Area House Age</th>\n",
              "      <th>Avg. Area Number of Rooms</th>\n",
              "      <th>Avg. Area Number of Bedrooms</th>\n",
              "      <th>Area Population</th>\n",
              "      <th>Price</th>\n",
              "      <th>Address</th>\n",
              "    </tr>\n",
              "  </thead>\n",
              "  <tbody>\n",
              "    <tr>\n",
              "      <th>0</th>\n",
              "      <td>79545.45857</td>\n",
              "      <td>5.682861</td>\n",
              "      <td>7.009188</td>\n",
              "      <td>4.09</td>\n",
              "      <td>23086.80050</td>\n",
              "      <td>1.059034e+06</td>\n",
              "      <td>208 Michael Ferry Apt. 674\\nLaurabury, NE 3701...</td>\n",
              "    </tr>\n",
              "    <tr>\n",
              "      <th>1</th>\n",
              "      <td>79248.64245</td>\n",
              "      <td>6.002900</td>\n",
              "      <td>6.730821</td>\n",
              "      <td>3.09</td>\n",
              "      <td>40173.07217</td>\n",
              "      <td>1.505891e+06</td>\n",
              "      <td>188 Johnson Views Suite 079\\nLake Kathleen, CA...</td>\n",
              "    </tr>\n",
              "    <tr>\n",
              "      <th>2</th>\n",
              "      <td>61287.06718</td>\n",
              "      <td>5.865890</td>\n",
              "      <td>8.512727</td>\n",
              "      <td>5.13</td>\n",
              "      <td>36882.15940</td>\n",
              "      <td>1.058988e+06</td>\n",
              "      <td>9127 Elizabeth Stravenue\\nDanieltown, WI 06482...</td>\n",
              "    </tr>\n",
              "    <tr>\n",
              "      <th>3</th>\n",
              "      <td>63345.24005</td>\n",
              "      <td>7.188236</td>\n",
              "      <td>5.586729</td>\n",
              "      <td>3.26</td>\n",
              "      <td>34310.24283</td>\n",
              "      <td>1.260617e+06</td>\n",
              "      <td>USS Barnett\\nFPO AP 44820</td>\n",
              "    </tr>\n",
              "    <tr>\n",
              "      <th>4</th>\n",
              "      <td>59982.19723</td>\n",
              "      <td>5.040555</td>\n",
              "      <td>7.839388</td>\n",
              "      <td>4.23</td>\n",
              "      <td>26354.10947</td>\n",
              "      <td>6.309435e+05</td>\n",
              "      <td>USNS Raymond\\nFPO AE 09386</td>\n",
              "    </tr>\n",
              "  </tbody>\n",
              "</table>\n",
              "</div>\n",
              "    <div class=\"colab-df-buttons\">\n",
              "\n",
              "  <div class=\"colab-df-container\">\n",
              "    <button class=\"colab-df-convert\" onclick=\"convertToInteractive('df-02d3c7c3-45e8-41df-9259-e9caf4466bce')\"\n",
              "            title=\"Convert this dataframe to an interactive table.\"\n",
              "            style=\"display:none;\">\n",
              "\n",
              "  <svg xmlns=\"http://www.w3.org/2000/svg\" height=\"24px\" viewBox=\"0 -960 960 960\">\n",
              "    <path d=\"M120-120v-720h720v720H120Zm60-500h600v-160H180v160Zm220 220h160v-160H400v160Zm0 220h160v-160H400v160ZM180-400h160v-160H180v160Zm440 0h160v-160H620v160ZM180-180h160v-160H180v160Zm440 0h160v-160H620v160Z\"/>\n",
              "  </svg>\n",
              "    </button>\n",
              "\n",
              "  <style>\n",
              "    .colab-df-container {\n",
              "      display:flex;\n",
              "      gap: 12px;\n",
              "    }\n",
              "\n",
              "    .colab-df-convert {\n",
              "      background-color: #E8F0FE;\n",
              "      border: none;\n",
              "      border-radius: 50%;\n",
              "      cursor: pointer;\n",
              "      display: none;\n",
              "      fill: #1967D2;\n",
              "      height: 32px;\n",
              "      padding: 0 0 0 0;\n",
              "      width: 32px;\n",
              "    }\n",
              "\n",
              "    .colab-df-convert:hover {\n",
              "      background-color: #E2EBFA;\n",
              "      box-shadow: 0px 1px 2px rgba(60, 64, 67, 0.3), 0px 1px 3px 1px rgba(60, 64, 67, 0.15);\n",
              "      fill: #174EA6;\n",
              "    }\n",
              "\n",
              "    .colab-df-buttons div {\n",
              "      margin-bottom: 4px;\n",
              "    }\n",
              "\n",
              "    [theme=dark] .colab-df-convert {\n",
              "      background-color: #3B4455;\n",
              "      fill: #D2E3FC;\n",
              "    }\n",
              "\n",
              "    [theme=dark] .colab-df-convert:hover {\n",
              "      background-color: #434B5C;\n",
              "      box-shadow: 0px 1px 3px 1px rgba(0, 0, 0, 0.15);\n",
              "      filter: drop-shadow(0px 1px 2px rgba(0, 0, 0, 0.3));\n",
              "      fill: #FFFFFF;\n",
              "    }\n",
              "  </style>\n",
              "\n",
              "    <script>\n",
              "      const buttonEl =\n",
              "        document.querySelector('#df-02d3c7c3-45e8-41df-9259-e9caf4466bce button.colab-df-convert');\n",
              "      buttonEl.style.display =\n",
              "        google.colab.kernel.accessAllowed ? 'block' : 'none';\n",
              "\n",
              "      async function convertToInteractive(key) {\n",
              "        const element = document.querySelector('#df-02d3c7c3-45e8-41df-9259-e9caf4466bce');\n",
              "        const dataTable =\n",
              "          await google.colab.kernel.invokeFunction('convertToInteractive',\n",
              "                                                    [key], {});\n",
              "        if (!dataTable) return;\n",
              "\n",
              "        const docLinkHtml = 'Like what you see? Visit the ' +\n",
              "          '<a target=\"_blank\" href=https://colab.research.google.com/notebooks/data_table.ipynb>data table notebook</a>'\n",
              "          + ' to learn more about interactive tables.';\n",
              "        element.innerHTML = '';\n",
              "        dataTable['output_type'] = 'display_data';\n",
              "        await google.colab.output.renderOutput(dataTable, element);\n",
              "        const docLink = document.createElement('div');\n",
              "        docLink.innerHTML = docLinkHtml;\n",
              "        element.appendChild(docLink);\n",
              "      }\n",
              "    </script>\n",
              "  </div>\n",
              "\n",
              "\n",
              "<div id=\"df-ac3438d6-9ca4-49eb-8613-7f300c0ce478\">\n",
              "  <button class=\"colab-df-quickchart\" onclick=\"quickchart('df-ac3438d6-9ca4-49eb-8613-7f300c0ce478')\"\n",
              "            title=\"Suggest charts\"\n",
              "            style=\"display:none;\">\n",
              "\n",
              "<svg xmlns=\"http://www.w3.org/2000/svg\" height=\"24px\"viewBox=\"0 0 24 24\"\n",
              "     width=\"24px\">\n",
              "    <g>\n",
              "        <path d=\"M19 3H5c-1.1 0-2 .9-2 2v14c0 1.1.9 2 2 2h14c1.1 0 2-.9 2-2V5c0-1.1-.9-2-2-2zM9 17H7v-7h2v7zm4 0h-2V7h2v10zm4 0h-2v-4h2v4z\"/>\n",
              "    </g>\n",
              "</svg>\n",
              "  </button>\n",
              "\n",
              "<style>\n",
              "  .colab-df-quickchart {\n",
              "      --bg-color: #E8F0FE;\n",
              "      --fill-color: #1967D2;\n",
              "      --hover-bg-color: #E2EBFA;\n",
              "      --hover-fill-color: #174EA6;\n",
              "      --disabled-fill-color: #AAA;\n",
              "      --disabled-bg-color: #DDD;\n",
              "  }\n",
              "\n",
              "  [theme=dark] .colab-df-quickchart {\n",
              "      --bg-color: #3B4455;\n",
              "      --fill-color: #D2E3FC;\n",
              "      --hover-bg-color: #434B5C;\n",
              "      --hover-fill-color: #FFFFFF;\n",
              "      --disabled-bg-color: #3B4455;\n",
              "      --disabled-fill-color: #666;\n",
              "  }\n",
              "\n",
              "  .colab-df-quickchart {\n",
              "    background-color: var(--bg-color);\n",
              "    border: none;\n",
              "    border-radius: 50%;\n",
              "    cursor: pointer;\n",
              "    display: none;\n",
              "    fill: var(--fill-color);\n",
              "    height: 32px;\n",
              "    padding: 0;\n",
              "    width: 32px;\n",
              "  }\n",
              "\n",
              "  .colab-df-quickchart:hover {\n",
              "    background-color: var(--hover-bg-color);\n",
              "    box-shadow: 0 1px 2px rgba(60, 64, 67, 0.3), 0 1px 3px 1px rgba(60, 64, 67, 0.15);\n",
              "    fill: var(--button-hover-fill-color);\n",
              "  }\n",
              "\n",
              "  .colab-df-quickchart-complete:disabled,\n",
              "  .colab-df-quickchart-complete:disabled:hover {\n",
              "    background-color: var(--disabled-bg-color);\n",
              "    fill: var(--disabled-fill-color);\n",
              "    box-shadow: none;\n",
              "  }\n",
              "\n",
              "  .colab-df-spinner {\n",
              "    border: 2px solid var(--fill-color);\n",
              "    border-color: transparent;\n",
              "    border-bottom-color: var(--fill-color);\n",
              "    animation:\n",
              "      spin 1s steps(1) infinite;\n",
              "  }\n",
              "\n",
              "  @keyframes spin {\n",
              "    0% {\n",
              "      border-color: transparent;\n",
              "      border-bottom-color: var(--fill-color);\n",
              "      border-left-color: var(--fill-color);\n",
              "    }\n",
              "    20% {\n",
              "      border-color: transparent;\n",
              "      border-left-color: var(--fill-color);\n",
              "      border-top-color: var(--fill-color);\n",
              "    }\n",
              "    30% {\n",
              "      border-color: transparent;\n",
              "      border-left-color: var(--fill-color);\n",
              "      border-top-color: var(--fill-color);\n",
              "      border-right-color: var(--fill-color);\n",
              "    }\n",
              "    40% {\n",
              "      border-color: transparent;\n",
              "      border-right-color: var(--fill-color);\n",
              "      border-top-color: var(--fill-color);\n",
              "    }\n",
              "    60% {\n",
              "      border-color: transparent;\n",
              "      border-right-color: var(--fill-color);\n",
              "    }\n",
              "    80% {\n",
              "      border-color: transparent;\n",
              "      border-right-color: var(--fill-color);\n",
              "      border-bottom-color: var(--fill-color);\n",
              "    }\n",
              "    90% {\n",
              "      border-color: transparent;\n",
              "      border-bottom-color: var(--fill-color);\n",
              "    }\n",
              "  }\n",
              "</style>\n",
              "\n",
              "  <script>\n",
              "    async function quickchart(key) {\n",
              "      const quickchartButtonEl =\n",
              "        document.querySelector('#' + key + ' button');\n",
              "      quickchartButtonEl.disabled = true;  // To prevent multiple clicks.\n",
              "      quickchartButtonEl.classList.add('colab-df-spinner');\n",
              "      try {\n",
              "        const charts = await google.colab.kernel.invokeFunction(\n",
              "            'suggestCharts', [key], {});\n",
              "      } catch (error) {\n",
              "        console.error('Error during call to suggestCharts:', error);\n",
              "      }\n",
              "      quickchartButtonEl.classList.remove('colab-df-spinner');\n",
              "      quickchartButtonEl.classList.add('colab-df-quickchart-complete');\n",
              "    }\n",
              "    (() => {\n",
              "      let quickchartButtonEl =\n",
              "        document.querySelector('#df-ac3438d6-9ca4-49eb-8613-7f300c0ce478 button');\n",
              "      quickchartButtonEl.style.display =\n",
              "        google.colab.kernel.accessAllowed ? 'block' : 'none';\n",
              "    })();\n",
              "  </script>\n",
              "</div>\n",
              "    </div>\n",
              "  </div>\n"
            ]
          },
          "metadata": {},
          "execution_count": 6
        }
      ]
    },
    {
      "cell_type": "code",
      "source": [
        "df.corr()"
      ],
      "metadata": {
        "colab": {
          "base_uri": "https://localhost:8080/",
          "height": 344
        },
        "id": "umwLrjHSFHsh",
        "outputId": "efd455c1-c583-43a9-bae0-479df4e13dd1"
      },
      "execution_count": 7,
      "outputs": [
        {
          "output_type": "stream",
          "name": "stderr",
          "text": [
            "<ipython-input-7-2f6f6606aa2c>:1: FutureWarning: The default value of numeric_only in DataFrame.corr is deprecated. In a future version, it will default to False. Select only valid columns or specify the value of numeric_only to silence this warning.\n",
            "  df.corr()\n"
          ]
        },
        {
          "output_type": "execute_result",
          "data": {
            "text/plain": [
              "                              Avg. Area Income  Avg. Area House Age  \\\n",
              "Avg. Area Income                      1.000000            -0.002007   \n",
              "Avg. Area House Age                  -0.002007             1.000000   \n",
              "Avg. Area Number of Rooms            -0.011032            -0.009428   \n",
              "Avg. Area Number of Bedrooms          0.019788             0.006149   \n",
              "Area Population                      -0.016234            -0.018743   \n",
              "Price                                 0.639734             0.452543   \n",
              "\n",
              "                              Avg. Area Number of Rooms  \\\n",
              "Avg. Area Income                              -0.011032   \n",
              "Avg. Area House Age                           -0.009428   \n",
              "Avg. Area Number of Rooms                      1.000000   \n",
              "Avg. Area Number of Bedrooms                   0.462695   \n",
              "Area Population                                0.002040   \n",
              "Price                                          0.335664   \n",
              "\n",
              "                              Avg. Area Number of Bedrooms  Area Population  \\\n",
              "Avg. Area Income                                  0.019788        -0.016234   \n",
              "Avg. Area House Age                               0.006149        -0.018743   \n",
              "Avg. Area Number of Rooms                         0.462695         0.002040   \n",
              "Avg. Area Number of Bedrooms                      1.000000        -0.022168   \n",
              "Area Population                                  -0.022168         1.000000   \n",
              "Price                                             0.171071         0.408556   \n",
              "\n",
              "                                 Price  \n",
              "Avg. Area Income              0.639734  \n",
              "Avg. Area House Age           0.452543  \n",
              "Avg. Area Number of Rooms     0.335664  \n",
              "Avg. Area Number of Bedrooms  0.171071  \n",
              "Area Population               0.408556  \n",
              "Price                         1.000000  "
            ],
            "text/html": [
              "\n",
              "  <div id=\"df-160b9393-ee06-4fee-a95a-7264b0fd7ced\" class=\"colab-df-container\">\n",
              "    <div>\n",
              "<style scoped>\n",
              "    .dataframe tbody tr th:only-of-type {\n",
              "        vertical-align: middle;\n",
              "    }\n",
              "\n",
              "    .dataframe tbody tr th {\n",
              "        vertical-align: top;\n",
              "    }\n",
              "\n",
              "    .dataframe thead th {\n",
              "        text-align: right;\n",
              "    }\n",
              "</style>\n",
              "<table border=\"1\" class=\"dataframe\">\n",
              "  <thead>\n",
              "    <tr style=\"text-align: right;\">\n",
              "      <th></th>\n",
              "      <th>Avg. Area Income</th>\n",
              "      <th>Avg. Area House Age</th>\n",
              "      <th>Avg. Area Number of Rooms</th>\n",
              "      <th>Avg. Area Number of Bedrooms</th>\n",
              "      <th>Area Population</th>\n",
              "      <th>Price</th>\n",
              "    </tr>\n",
              "  </thead>\n",
              "  <tbody>\n",
              "    <tr>\n",
              "      <th>Avg. Area Income</th>\n",
              "      <td>1.000000</td>\n",
              "      <td>-0.002007</td>\n",
              "      <td>-0.011032</td>\n",
              "      <td>0.019788</td>\n",
              "      <td>-0.016234</td>\n",
              "      <td>0.639734</td>\n",
              "    </tr>\n",
              "    <tr>\n",
              "      <th>Avg. Area House Age</th>\n",
              "      <td>-0.002007</td>\n",
              "      <td>1.000000</td>\n",
              "      <td>-0.009428</td>\n",
              "      <td>0.006149</td>\n",
              "      <td>-0.018743</td>\n",
              "      <td>0.452543</td>\n",
              "    </tr>\n",
              "    <tr>\n",
              "      <th>Avg. Area Number of Rooms</th>\n",
              "      <td>-0.011032</td>\n",
              "      <td>-0.009428</td>\n",
              "      <td>1.000000</td>\n",
              "      <td>0.462695</td>\n",
              "      <td>0.002040</td>\n",
              "      <td>0.335664</td>\n",
              "    </tr>\n",
              "    <tr>\n",
              "      <th>Avg. Area Number of Bedrooms</th>\n",
              "      <td>0.019788</td>\n",
              "      <td>0.006149</td>\n",
              "      <td>0.462695</td>\n",
              "      <td>1.000000</td>\n",
              "      <td>-0.022168</td>\n",
              "      <td>0.171071</td>\n",
              "    </tr>\n",
              "    <tr>\n",
              "      <th>Area Population</th>\n",
              "      <td>-0.016234</td>\n",
              "      <td>-0.018743</td>\n",
              "      <td>0.002040</td>\n",
              "      <td>-0.022168</td>\n",
              "      <td>1.000000</td>\n",
              "      <td>0.408556</td>\n",
              "    </tr>\n",
              "    <tr>\n",
              "      <th>Price</th>\n",
              "      <td>0.639734</td>\n",
              "      <td>0.452543</td>\n",
              "      <td>0.335664</td>\n",
              "      <td>0.171071</td>\n",
              "      <td>0.408556</td>\n",
              "      <td>1.000000</td>\n",
              "    </tr>\n",
              "  </tbody>\n",
              "</table>\n",
              "</div>\n",
              "    <div class=\"colab-df-buttons\">\n",
              "\n",
              "  <div class=\"colab-df-container\">\n",
              "    <button class=\"colab-df-convert\" onclick=\"convertToInteractive('df-160b9393-ee06-4fee-a95a-7264b0fd7ced')\"\n",
              "            title=\"Convert this dataframe to an interactive table.\"\n",
              "            style=\"display:none;\">\n",
              "\n",
              "  <svg xmlns=\"http://www.w3.org/2000/svg\" height=\"24px\" viewBox=\"0 -960 960 960\">\n",
              "    <path d=\"M120-120v-720h720v720H120Zm60-500h600v-160H180v160Zm220 220h160v-160H400v160Zm0 220h160v-160H400v160ZM180-400h160v-160H180v160Zm440 0h160v-160H620v160ZM180-180h160v-160H180v160Zm440 0h160v-160H620v160Z\"/>\n",
              "  </svg>\n",
              "    </button>\n",
              "\n",
              "  <style>\n",
              "    .colab-df-container {\n",
              "      display:flex;\n",
              "      gap: 12px;\n",
              "    }\n",
              "\n",
              "    .colab-df-convert {\n",
              "      background-color: #E8F0FE;\n",
              "      border: none;\n",
              "      border-radius: 50%;\n",
              "      cursor: pointer;\n",
              "      display: none;\n",
              "      fill: #1967D2;\n",
              "      height: 32px;\n",
              "      padding: 0 0 0 0;\n",
              "      width: 32px;\n",
              "    }\n",
              "\n",
              "    .colab-df-convert:hover {\n",
              "      background-color: #E2EBFA;\n",
              "      box-shadow: 0px 1px 2px rgba(60, 64, 67, 0.3), 0px 1px 3px 1px rgba(60, 64, 67, 0.15);\n",
              "      fill: #174EA6;\n",
              "    }\n",
              "\n",
              "    .colab-df-buttons div {\n",
              "      margin-bottom: 4px;\n",
              "    }\n",
              "\n",
              "    [theme=dark] .colab-df-convert {\n",
              "      background-color: #3B4455;\n",
              "      fill: #D2E3FC;\n",
              "    }\n",
              "\n",
              "    [theme=dark] .colab-df-convert:hover {\n",
              "      background-color: #434B5C;\n",
              "      box-shadow: 0px 1px 3px 1px rgba(0, 0, 0, 0.15);\n",
              "      filter: drop-shadow(0px 1px 2px rgba(0, 0, 0, 0.3));\n",
              "      fill: #FFFFFF;\n",
              "    }\n",
              "  </style>\n",
              "\n",
              "    <script>\n",
              "      const buttonEl =\n",
              "        document.querySelector('#df-160b9393-ee06-4fee-a95a-7264b0fd7ced button.colab-df-convert');\n",
              "      buttonEl.style.display =\n",
              "        google.colab.kernel.accessAllowed ? 'block' : 'none';\n",
              "\n",
              "      async function convertToInteractive(key) {\n",
              "        const element = document.querySelector('#df-160b9393-ee06-4fee-a95a-7264b0fd7ced');\n",
              "        const dataTable =\n",
              "          await google.colab.kernel.invokeFunction('convertToInteractive',\n",
              "                                                    [key], {});\n",
              "        if (!dataTable) return;\n",
              "\n",
              "        const docLinkHtml = 'Like what you see? Visit the ' +\n",
              "          '<a target=\"_blank\" href=https://colab.research.google.com/notebooks/data_table.ipynb>data table notebook</a>'\n",
              "          + ' to learn more about interactive tables.';\n",
              "        element.innerHTML = '';\n",
              "        dataTable['output_type'] = 'display_data';\n",
              "        await google.colab.output.renderOutput(dataTable, element);\n",
              "        const docLink = document.createElement('div');\n",
              "        docLink.innerHTML = docLinkHtml;\n",
              "        element.appendChild(docLink);\n",
              "      }\n",
              "    </script>\n",
              "  </div>\n",
              "\n",
              "\n",
              "<div id=\"df-46c4a103-7286-4197-a0d4-1f747fcef41b\">\n",
              "  <button class=\"colab-df-quickchart\" onclick=\"quickchart('df-46c4a103-7286-4197-a0d4-1f747fcef41b')\"\n",
              "            title=\"Suggest charts\"\n",
              "            style=\"display:none;\">\n",
              "\n",
              "<svg xmlns=\"http://www.w3.org/2000/svg\" height=\"24px\"viewBox=\"0 0 24 24\"\n",
              "     width=\"24px\">\n",
              "    <g>\n",
              "        <path d=\"M19 3H5c-1.1 0-2 .9-2 2v14c0 1.1.9 2 2 2h14c1.1 0 2-.9 2-2V5c0-1.1-.9-2-2-2zM9 17H7v-7h2v7zm4 0h-2V7h2v10zm4 0h-2v-4h2v4z\"/>\n",
              "    </g>\n",
              "</svg>\n",
              "  </button>\n",
              "\n",
              "<style>\n",
              "  .colab-df-quickchart {\n",
              "      --bg-color: #E8F0FE;\n",
              "      --fill-color: #1967D2;\n",
              "      --hover-bg-color: #E2EBFA;\n",
              "      --hover-fill-color: #174EA6;\n",
              "      --disabled-fill-color: #AAA;\n",
              "      --disabled-bg-color: #DDD;\n",
              "  }\n",
              "\n",
              "  [theme=dark] .colab-df-quickchart {\n",
              "      --bg-color: #3B4455;\n",
              "      --fill-color: #D2E3FC;\n",
              "      --hover-bg-color: #434B5C;\n",
              "      --hover-fill-color: #FFFFFF;\n",
              "      --disabled-bg-color: #3B4455;\n",
              "      --disabled-fill-color: #666;\n",
              "  }\n",
              "\n",
              "  .colab-df-quickchart {\n",
              "    background-color: var(--bg-color);\n",
              "    border: none;\n",
              "    border-radius: 50%;\n",
              "    cursor: pointer;\n",
              "    display: none;\n",
              "    fill: var(--fill-color);\n",
              "    height: 32px;\n",
              "    padding: 0;\n",
              "    width: 32px;\n",
              "  }\n",
              "\n",
              "  .colab-df-quickchart:hover {\n",
              "    background-color: var(--hover-bg-color);\n",
              "    box-shadow: 0 1px 2px rgba(60, 64, 67, 0.3), 0 1px 3px 1px rgba(60, 64, 67, 0.15);\n",
              "    fill: var(--button-hover-fill-color);\n",
              "  }\n",
              "\n",
              "  .colab-df-quickchart-complete:disabled,\n",
              "  .colab-df-quickchart-complete:disabled:hover {\n",
              "    background-color: var(--disabled-bg-color);\n",
              "    fill: var(--disabled-fill-color);\n",
              "    box-shadow: none;\n",
              "  }\n",
              "\n",
              "  .colab-df-spinner {\n",
              "    border: 2px solid var(--fill-color);\n",
              "    border-color: transparent;\n",
              "    border-bottom-color: var(--fill-color);\n",
              "    animation:\n",
              "      spin 1s steps(1) infinite;\n",
              "  }\n",
              "\n",
              "  @keyframes spin {\n",
              "    0% {\n",
              "      border-color: transparent;\n",
              "      border-bottom-color: var(--fill-color);\n",
              "      border-left-color: var(--fill-color);\n",
              "    }\n",
              "    20% {\n",
              "      border-color: transparent;\n",
              "      border-left-color: var(--fill-color);\n",
              "      border-top-color: var(--fill-color);\n",
              "    }\n",
              "    30% {\n",
              "      border-color: transparent;\n",
              "      border-left-color: var(--fill-color);\n",
              "      border-top-color: var(--fill-color);\n",
              "      border-right-color: var(--fill-color);\n",
              "    }\n",
              "    40% {\n",
              "      border-color: transparent;\n",
              "      border-right-color: var(--fill-color);\n",
              "      border-top-color: var(--fill-color);\n",
              "    }\n",
              "    60% {\n",
              "      border-color: transparent;\n",
              "      border-right-color: var(--fill-color);\n",
              "    }\n",
              "    80% {\n",
              "      border-color: transparent;\n",
              "      border-right-color: var(--fill-color);\n",
              "      border-bottom-color: var(--fill-color);\n",
              "    }\n",
              "    90% {\n",
              "      border-color: transparent;\n",
              "      border-bottom-color: var(--fill-color);\n",
              "    }\n",
              "  }\n",
              "</style>\n",
              "\n",
              "  <script>\n",
              "    async function quickchart(key) {\n",
              "      const quickchartButtonEl =\n",
              "        document.querySelector('#' + key + ' button');\n",
              "      quickchartButtonEl.disabled = true;  // To prevent multiple clicks.\n",
              "      quickchartButtonEl.classList.add('colab-df-spinner');\n",
              "      try {\n",
              "        const charts = await google.colab.kernel.invokeFunction(\n",
              "            'suggestCharts', [key], {});\n",
              "      } catch (error) {\n",
              "        console.error('Error during call to suggestCharts:', error);\n",
              "      }\n",
              "      quickchartButtonEl.classList.remove('colab-df-spinner');\n",
              "      quickchartButtonEl.classList.add('colab-df-quickchart-complete');\n",
              "    }\n",
              "    (() => {\n",
              "      let quickchartButtonEl =\n",
              "        document.querySelector('#df-46c4a103-7286-4197-a0d4-1f747fcef41b button');\n",
              "      quickchartButtonEl.style.display =\n",
              "        google.colab.kernel.accessAllowed ? 'block' : 'none';\n",
              "    })();\n",
              "  </script>\n",
              "</div>\n",
              "    </div>\n",
              "  </div>\n"
            ]
          },
          "metadata": {},
          "execution_count": 7
        }
      ]
    },
    {
      "cell_type": "markdown",
      "source": [
        "Drop address column"
      ],
      "metadata": {
        "id": "ZSV684GmGSuB"
      }
    },
    {
      "cell_type": "code",
      "source": [
        "df.drop('Address',axis=1,inplace=True)"
      ],
      "metadata": {
        "id": "VfPRzib7GUSE"
      },
      "execution_count": 9,
      "outputs": []
    },
    {
      "cell_type": "code",
      "source": [
        "df.head(2)"
      ],
      "metadata": {
        "colab": {
          "base_uri": "https://localhost:8080/",
          "height": 112
        },
        "id": "PbPpxcuNGsie",
        "outputId": "ee1987ff-6b7d-4570-c7c5-20d3af041691"
      },
      "execution_count": 10,
      "outputs": [
        {
          "output_type": "execute_result",
          "data": {
            "text/plain": [
              "   Avg. Area Income  Avg. Area House Age  Avg. Area Number of Rooms  \\\n",
              "0       79545.45857             5.682861                   7.009188   \n",
              "1       79248.64245             6.002900                   6.730821   \n",
              "\n",
              "   Avg. Area Number of Bedrooms  Area Population        Price  \n",
              "0                          4.09      23086.80050  1059033.558  \n",
              "1                          3.09      40173.07217  1505890.915  "
            ],
            "text/html": [
              "\n",
              "  <div id=\"df-4f02af7b-34de-432e-ba2b-868706a2ac6c\" class=\"colab-df-container\">\n",
              "    <div>\n",
              "<style scoped>\n",
              "    .dataframe tbody tr th:only-of-type {\n",
              "        vertical-align: middle;\n",
              "    }\n",
              "\n",
              "    .dataframe tbody tr th {\n",
              "        vertical-align: top;\n",
              "    }\n",
              "\n",
              "    .dataframe thead th {\n",
              "        text-align: right;\n",
              "    }\n",
              "</style>\n",
              "<table border=\"1\" class=\"dataframe\">\n",
              "  <thead>\n",
              "    <tr style=\"text-align: right;\">\n",
              "      <th></th>\n",
              "      <th>Avg. Area Income</th>\n",
              "      <th>Avg. Area House Age</th>\n",
              "      <th>Avg. Area Number of Rooms</th>\n",
              "      <th>Avg. Area Number of Bedrooms</th>\n",
              "      <th>Area Population</th>\n",
              "      <th>Price</th>\n",
              "    </tr>\n",
              "  </thead>\n",
              "  <tbody>\n",
              "    <tr>\n",
              "      <th>0</th>\n",
              "      <td>79545.45857</td>\n",
              "      <td>5.682861</td>\n",
              "      <td>7.009188</td>\n",
              "      <td>4.09</td>\n",
              "      <td>23086.80050</td>\n",
              "      <td>1059033.558</td>\n",
              "    </tr>\n",
              "    <tr>\n",
              "      <th>1</th>\n",
              "      <td>79248.64245</td>\n",
              "      <td>6.002900</td>\n",
              "      <td>6.730821</td>\n",
              "      <td>3.09</td>\n",
              "      <td>40173.07217</td>\n",
              "      <td>1505890.915</td>\n",
              "    </tr>\n",
              "  </tbody>\n",
              "</table>\n",
              "</div>\n",
              "    <div class=\"colab-df-buttons\">\n",
              "\n",
              "  <div class=\"colab-df-container\">\n",
              "    <button class=\"colab-df-convert\" onclick=\"convertToInteractive('df-4f02af7b-34de-432e-ba2b-868706a2ac6c')\"\n",
              "            title=\"Convert this dataframe to an interactive table.\"\n",
              "            style=\"display:none;\">\n",
              "\n",
              "  <svg xmlns=\"http://www.w3.org/2000/svg\" height=\"24px\" viewBox=\"0 -960 960 960\">\n",
              "    <path d=\"M120-120v-720h720v720H120Zm60-500h600v-160H180v160Zm220 220h160v-160H400v160Zm0 220h160v-160H400v160ZM180-400h160v-160H180v160Zm440 0h160v-160H620v160ZM180-180h160v-160H180v160Zm440 0h160v-160H620v160Z\"/>\n",
              "  </svg>\n",
              "    </button>\n",
              "\n",
              "  <style>\n",
              "    .colab-df-container {\n",
              "      display:flex;\n",
              "      gap: 12px;\n",
              "    }\n",
              "\n",
              "    .colab-df-convert {\n",
              "      background-color: #E8F0FE;\n",
              "      border: none;\n",
              "      border-radius: 50%;\n",
              "      cursor: pointer;\n",
              "      display: none;\n",
              "      fill: #1967D2;\n",
              "      height: 32px;\n",
              "      padding: 0 0 0 0;\n",
              "      width: 32px;\n",
              "    }\n",
              "\n",
              "    .colab-df-convert:hover {\n",
              "      background-color: #E2EBFA;\n",
              "      box-shadow: 0px 1px 2px rgba(60, 64, 67, 0.3), 0px 1px 3px 1px rgba(60, 64, 67, 0.15);\n",
              "      fill: #174EA6;\n",
              "    }\n",
              "\n",
              "    .colab-df-buttons div {\n",
              "      margin-bottom: 4px;\n",
              "    }\n",
              "\n",
              "    [theme=dark] .colab-df-convert {\n",
              "      background-color: #3B4455;\n",
              "      fill: #D2E3FC;\n",
              "    }\n",
              "\n",
              "    [theme=dark] .colab-df-convert:hover {\n",
              "      background-color: #434B5C;\n",
              "      box-shadow: 0px 1px 3px 1px rgba(0, 0, 0, 0.15);\n",
              "      filter: drop-shadow(0px 1px 2px rgba(0, 0, 0, 0.3));\n",
              "      fill: #FFFFFF;\n",
              "    }\n",
              "  </style>\n",
              "\n",
              "    <script>\n",
              "      const buttonEl =\n",
              "        document.querySelector('#df-4f02af7b-34de-432e-ba2b-868706a2ac6c button.colab-df-convert');\n",
              "      buttonEl.style.display =\n",
              "        google.colab.kernel.accessAllowed ? 'block' : 'none';\n",
              "\n",
              "      async function convertToInteractive(key) {\n",
              "        const element = document.querySelector('#df-4f02af7b-34de-432e-ba2b-868706a2ac6c');\n",
              "        const dataTable =\n",
              "          await google.colab.kernel.invokeFunction('convertToInteractive',\n",
              "                                                    [key], {});\n",
              "        if (!dataTable) return;\n",
              "\n",
              "        const docLinkHtml = 'Like what you see? Visit the ' +\n",
              "          '<a target=\"_blank\" href=https://colab.research.google.com/notebooks/data_table.ipynb>data table notebook</a>'\n",
              "          + ' to learn more about interactive tables.';\n",
              "        element.innerHTML = '';\n",
              "        dataTable['output_type'] = 'display_data';\n",
              "        await google.colab.output.renderOutput(dataTable, element);\n",
              "        const docLink = document.createElement('div');\n",
              "        docLink.innerHTML = docLinkHtml;\n",
              "        element.appendChild(docLink);\n",
              "      }\n",
              "    </script>\n",
              "  </div>\n",
              "\n",
              "\n",
              "<div id=\"df-a7acdd34-8cef-4dc7-869f-eee1479fe751\">\n",
              "  <button class=\"colab-df-quickchart\" onclick=\"quickchart('df-a7acdd34-8cef-4dc7-869f-eee1479fe751')\"\n",
              "            title=\"Suggest charts\"\n",
              "            style=\"display:none;\">\n",
              "\n",
              "<svg xmlns=\"http://www.w3.org/2000/svg\" height=\"24px\"viewBox=\"0 0 24 24\"\n",
              "     width=\"24px\">\n",
              "    <g>\n",
              "        <path d=\"M19 3H5c-1.1 0-2 .9-2 2v14c0 1.1.9 2 2 2h14c1.1 0 2-.9 2-2V5c0-1.1-.9-2-2-2zM9 17H7v-7h2v7zm4 0h-2V7h2v10zm4 0h-2v-4h2v4z\"/>\n",
              "    </g>\n",
              "</svg>\n",
              "  </button>\n",
              "\n",
              "<style>\n",
              "  .colab-df-quickchart {\n",
              "      --bg-color: #E8F0FE;\n",
              "      --fill-color: #1967D2;\n",
              "      --hover-bg-color: #E2EBFA;\n",
              "      --hover-fill-color: #174EA6;\n",
              "      --disabled-fill-color: #AAA;\n",
              "      --disabled-bg-color: #DDD;\n",
              "  }\n",
              "\n",
              "  [theme=dark] .colab-df-quickchart {\n",
              "      --bg-color: #3B4455;\n",
              "      --fill-color: #D2E3FC;\n",
              "      --hover-bg-color: #434B5C;\n",
              "      --hover-fill-color: #FFFFFF;\n",
              "      --disabled-bg-color: #3B4455;\n",
              "      --disabled-fill-color: #666;\n",
              "  }\n",
              "\n",
              "  .colab-df-quickchart {\n",
              "    background-color: var(--bg-color);\n",
              "    border: none;\n",
              "    border-radius: 50%;\n",
              "    cursor: pointer;\n",
              "    display: none;\n",
              "    fill: var(--fill-color);\n",
              "    height: 32px;\n",
              "    padding: 0;\n",
              "    width: 32px;\n",
              "  }\n",
              "\n",
              "  .colab-df-quickchart:hover {\n",
              "    background-color: var(--hover-bg-color);\n",
              "    box-shadow: 0 1px 2px rgba(60, 64, 67, 0.3), 0 1px 3px 1px rgba(60, 64, 67, 0.15);\n",
              "    fill: var(--button-hover-fill-color);\n",
              "  }\n",
              "\n",
              "  .colab-df-quickchart-complete:disabled,\n",
              "  .colab-df-quickchart-complete:disabled:hover {\n",
              "    background-color: var(--disabled-bg-color);\n",
              "    fill: var(--disabled-fill-color);\n",
              "    box-shadow: none;\n",
              "  }\n",
              "\n",
              "  .colab-df-spinner {\n",
              "    border: 2px solid var(--fill-color);\n",
              "    border-color: transparent;\n",
              "    border-bottom-color: var(--fill-color);\n",
              "    animation:\n",
              "      spin 1s steps(1) infinite;\n",
              "  }\n",
              "\n",
              "  @keyframes spin {\n",
              "    0% {\n",
              "      border-color: transparent;\n",
              "      border-bottom-color: var(--fill-color);\n",
              "      border-left-color: var(--fill-color);\n",
              "    }\n",
              "    20% {\n",
              "      border-color: transparent;\n",
              "      border-left-color: var(--fill-color);\n",
              "      border-top-color: var(--fill-color);\n",
              "    }\n",
              "    30% {\n",
              "      border-color: transparent;\n",
              "      border-left-color: var(--fill-color);\n",
              "      border-top-color: var(--fill-color);\n",
              "      border-right-color: var(--fill-color);\n",
              "    }\n",
              "    40% {\n",
              "      border-color: transparent;\n",
              "      border-right-color: var(--fill-color);\n",
              "      border-top-color: var(--fill-color);\n",
              "    }\n",
              "    60% {\n",
              "      border-color: transparent;\n",
              "      border-right-color: var(--fill-color);\n",
              "    }\n",
              "    80% {\n",
              "      border-color: transparent;\n",
              "      border-right-color: var(--fill-color);\n",
              "      border-bottom-color: var(--fill-color);\n",
              "    }\n",
              "    90% {\n",
              "      border-color: transparent;\n",
              "      border-bottom-color: var(--fill-color);\n",
              "    }\n",
              "  }\n",
              "</style>\n",
              "\n",
              "  <script>\n",
              "    async function quickchart(key) {\n",
              "      const quickchartButtonEl =\n",
              "        document.querySelector('#' + key + ' button');\n",
              "      quickchartButtonEl.disabled = true;  // To prevent multiple clicks.\n",
              "      quickchartButtonEl.classList.add('colab-df-spinner');\n",
              "      try {\n",
              "        const charts = await google.colab.kernel.invokeFunction(\n",
              "            'suggestCharts', [key], {});\n",
              "      } catch (error) {\n",
              "        console.error('Error during call to suggestCharts:', error);\n",
              "      }\n",
              "      quickchartButtonEl.classList.remove('colab-df-spinner');\n",
              "      quickchartButtonEl.classList.add('colab-df-quickchart-complete');\n",
              "    }\n",
              "    (() => {\n",
              "      let quickchartButtonEl =\n",
              "        document.querySelector('#df-a7acdd34-8cef-4dc7-869f-eee1479fe751 button');\n",
              "      quickchartButtonEl.style.display =\n",
              "        google.colab.kernel.accessAllowed ? 'block' : 'none';\n",
              "    })();\n",
              "  </script>\n",
              "</div>\n",
              "    </div>\n",
              "  </div>\n"
            ]
          },
          "metadata": {},
          "execution_count": 10
        }
      ]
    },
    {
      "cell_type": "markdown",
      "source": [
        "![image.png](data:image/png;base64,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)"
      ],
      "metadata": {
        "id": "3twGLkMiKQPV"
      }
    },
    {
      "cell_type": "markdown",
      "source": [
        "## Training a Linear Regression Model\n",
        "\n",
        "Let's now begin to train out regression model! We will need to first split up our data into an X array that contains the features to train on, and a y array with the target variable, in this case the Price column. We will toss out the Address column because it only has text info that the linear regression model can't use.\n",
        "\n",
        "### X and y arrays"
      ],
      "metadata": {
        "id": "yM1azmw9KiU1"
      }
    },
    {
      "cell_type": "code",
      "source": [
        "x = df.drop('Price',axis=1)\n",
        "y = df['Price']"
      ],
      "metadata": {
        "id": "tZom6DaJKRTq"
      },
      "execution_count": 11,
      "outputs": []
    },
    {
      "cell_type": "markdown",
      "source": [
        "## Train Test Split\n",
        "\n",
        "Now let's split the data into a training set and a testing set. We will train out model on the training set and then use the test set to evaluate the model."
      ],
      "metadata": {
        "id": "Re3NMekFK6xL"
      }
    },
    {
      "cell_type": "code",
      "source": [
        "from sklearn.model_selection import train_test_split\n",
        "x_train, x_test , y_train , y_test = train_test_split(x,y,train_size=0.8)"
      ],
      "metadata": {
        "id": "1sSadPmAKumf"
      },
      "execution_count": 13,
      "outputs": []
    },
    {
      "cell_type": "code",
      "source": [
        "x_train.shape"
      ],
      "metadata": {
        "colab": {
          "base_uri": "https://localhost:8080/"
        },
        "id": "Z3S7TMCiLfs1",
        "outputId": "ec6c62b6-0211-4c2f-e13b-59b5a8ffbf63"
      },
      "execution_count": 14,
      "outputs": [
        {
          "output_type": "execute_result",
          "data": {
            "text/plain": [
              "(4000, 5)"
            ]
          },
          "metadata": {},
          "execution_count": 14
        }
      ]
    },
    {
      "cell_type": "code",
      "source": [
        "x_test.shape"
      ],
      "metadata": {
        "colab": {
          "base_uri": "https://localhost:8080/"
        },
        "id": "2sHdgD40Lhlb",
        "outputId": "0b438984-f630-42aa-ae6c-1e33e5675c61"
      },
      "execution_count": 15,
      "outputs": [
        {
          "output_type": "execute_result",
          "data": {
            "text/plain": [
              "(1000, 5)"
            ]
          },
          "metadata": {},
          "execution_count": 15
        }
      ]
    },
    {
      "cell_type": "markdown",
      "source": [
        "## Creating and Training the Model"
      ],
      "metadata": {
        "id": "RQ1BN5y5NaWT"
      }
    },
    {
      "cell_type": "code",
      "source": [
        "from sklearn.linear_model import LinearRegression"
      ],
      "metadata": {
        "id": "KWFxNV0jLkQi"
      },
      "execution_count": 19,
      "outputs": []
    },
    {
      "cell_type": "markdown",
      "source": [
        "Create object"
      ],
      "metadata": {
        "id": "aO6PbLOtOsf5"
      }
    },
    {
      "cell_type": "code",
      "source": [
        "linreg = LinearRegression()"
      ],
      "metadata": {
        "id": "54Lju9ZcNo4O"
      },
      "execution_count": 20,
      "outputs": []
    },
    {
      "cell_type": "markdown",
      "source": [
        "Train the model"
      ],
      "metadata": {
        "id": "e-iE61MNOtyC"
      }
    },
    {
      "cell_type": "code",
      "source": [
        "linreg.fit(x_train,y_train)"
      ],
      "metadata": {
        "colab": {
          "base_uri": "https://localhost:8080/",
          "height": 74
        },
        "id": "9LwpFKWyNuQS",
        "outputId": "cedbf5d9-1a6d-425b-9e2d-73550eef366b"
      },
      "execution_count": 21,
      "outputs": [
        {
          "output_type": "execute_result",
          "data": {
            "text/plain": [
              "LinearRegression()"
            ],
            "text/html": [
              "<style>#sk-container-id-1 {color: black;background-color: white;}#sk-container-id-1 pre{padding: 0;}#sk-container-id-1 div.sk-toggleable {background-color: white;}#sk-container-id-1 label.sk-toggleable__label {cursor: pointer;display: block;width: 100%;margin-bottom: 0;padding: 0.3em;box-sizing: border-box;text-align: center;}#sk-container-id-1 label.sk-toggleable__label-arrow:before {content: \"▸\";float: left;margin-right: 0.25em;color: #696969;}#sk-container-id-1 label.sk-toggleable__label-arrow:hover:before {color: black;}#sk-container-id-1 div.sk-estimator:hover label.sk-toggleable__label-arrow:before {color: black;}#sk-container-id-1 div.sk-toggleable__content {max-height: 0;max-width: 0;overflow: hidden;text-align: left;background-color: #f0f8ff;}#sk-container-id-1 div.sk-toggleable__content pre {margin: 0.2em;color: black;border-radius: 0.25em;background-color: #f0f8ff;}#sk-container-id-1 input.sk-toggleable__control:checked~div.sk-toggleable__content {max-height: 200px;max-width: 100%;overflow: auto;}#sk-container-id-1 input.sk-toggleable__control:checked~label.sk-toggleable__label-arrow:before {content: \"▾\";}#sk-container-id-1 div.sk-estimator input.sk-toggleable__control:checked~label.sk-toggleable__label {background-color: #d4ebff;}#sk-container-id-1 div.sk-label input.sk-toggleable__control:checked~label.sk-toggleable__label {background-color: #d4ebff;}#sk-container-id-1 input.sk-hidden--visually {border: 0;clip: rect(1px 1px 1px 1px);clip: rect(1px, 1px, 1px, 1px);height: 1px;margin: -1px;overflow: hidden;padding: 0;position: absolute;width: 1px;}#sk-container-id-1 div.sk-estimator {font-family: monospace;background-color: #f0f8ff;border: 1px dotted black;border-radius: 0.25em;box-sizing: border-box;margin-bottom: 0.5em;}#sk-container-id-1 div.sk-estimator:hover {background-color: #d4ebff;}#sk-container-id-1 div.sk-parallel-item::after {content: \"\";width: 100%;border-bottom: 1px solid gray;flex-grow: 1;}#sk-container-id-1 div.sk-label:hover label.sk-toggleable__label {background-color: #d4ebff;}#sk-container-id-1 div.sk-serial::before {content: \"\";position: absolute;border-left: 1px solid gray;box-sizing: border-box;top: 0;bottom: 0;left: 50%;z-index: 0;}#sk-container-id-1 div.sk-serial {display: flex;flex-direction: column;align-items: center;background-color: white;padding-right: 0.2em;padding-left: 0.2em;position: relative;}#sk-container-id-1 div.sk-item {position: relative;z-index: 1;}#sk-container-id-1 div.sk-parallel {display: flex;align-items: stretch;justify-content: center;background-color: white;position: relative;}#sk-container-id-1 div.sk-item::before, #sk-container-id-1 div.sk-parallel-item::before {content: \"\";position: absolute;border-left: 1px solid gray;box-sizing: border-box;top: 0;bottom: 0;left: 50%;z-index: -1;}#sk-container-id-1 div.sk-parallel-item {display: flex;flex-direction: column;z-index: 1;position: relative;background-color: white;}#sk-container-id-1 div.sk-parallel-item:first-child::after {align-self: flex-end;width: 50%;}#sk-container-id-1 div.sk-parallel-item:last-child::after {align-self: flex-start;width: 50%;}#sk-container-id-1 div.sk-parallel-item:only-child::after {width: 0;}#sk-container-id-1 div.sk-dashed-wrapped {border: 1px dashed gray;margin: 0 0.4em 0.5em 0.4em;box-sizing: border-box;padding-bottom: 0.4em;background-color: white;}#sk-container-id-1 div.sk-label label {font-family: monospace;font-weight: bold;display: inline-block;line-height: 1.2em;}#sk-container-id-1 div.sk-label-container {text-align: center;}#sk-container-id-1 div.sk-container {/* jupyter's `normalize.less` sets `[hidden] { display: none; }` but bootstrap.min.css set `[hidden] { display: none !important; }` so we also need the `!important` here to be able to override the default hidden behavior on the sphinx rendered scikit-learn.org. See: https://github.com/scikit-learn/scikit-learn/issues/21755 */display: inline-block !important;position: relative;}#sk-container-id-1 div.sk-text-repr-fallback {display: none;}</style><div id=\"sk-container-id-1\" class=\"sk-top-container\"><div class=\"sk-text-repr-fallback\"><pre>LinearRegression()</pre><b>In a Jupyter environment, please rerun this cell to show the HTML representation or trust the notebook. <br />On GitHub, the HTML representation is unable to render, please try loading this page with nbviewer.org.</b></div><div class=\"sk-container\" hidden><div class=\"sk-item\"><div class=\"sk-estimator sk-toggleable\"><input class=\"sk-toggleable__control sk-hidden--visually\" id=\"sk-estimator-id-1\" type=\"checkbox\" checked><label for=\"sk-estimator-id-1\" class=\"sk-toggleable__label sk-toggleable__label-arrow\">LinearRegression</label><div class=\"sk-toggleable__content\"><pre>LinearRegression()</pre></div></div></div></div></div>"
            ]
          },
          "metadata": {},
          "execution_count": 21
        }
      ]
    },
    {
      "cell_type": "markdown",
      "source": [
        "Test th Model and capture results in a variable"
      ],
      "metadata": {
        "id": "RMgDGCRTOvwX"
      }
    },
    {
      "cell_type": "code",
      "source": [
        "y_pred = linreg.predict(x_test)"
      ],
      "metadata": {
        "id": "0VOxVyb5Ocfx"
      },
      "execution_count": 22,
      "outputs": []
    },
    {
      "cell_type": "code",
      "source": [
        "y_pred.shape"
      ],
      "metadata": {
        "colab": {
          "base_uri": "https://localhost:8080/"
        },
        "id": "Bur9-N4sOmbg",
        "outputId": "6c0125b4-2c20-4fa7-b8a2-efaad8b42b7d"
      },
      "execution_count": 23,
      "outputs": [
        {
          "output_type": "execute_result",
          "data": {
            "text/plain": [
              "(1000,)"
            ]
          },
          "metadata": {},
          "execution_count": 23
        }
      ]
    },
    {
      "cell_type": "markdown",
      "source": [
        "Compare actual price which are in y_test , with predicted price which are in y_pred"
      ],
      "metadata": {
        "id": "mVMqhiQKO2vb"
      }
    },
    {
      "cell_type": "code",
      "source": [
        "plt.scatter(y_test,y_pred)"
      ],
      "metadata": {
        "colab": {
          "base_uri": "https://localhost:8080/",
          "height": 480
        },
        "id": "BJjdOfcPPa-w",
        "outputId": "1842cdb2-dbc3-4dd2-cae0-c57661be3ba8"
      },
      "execution_count": 33,
      "outputs": [
        {
          "output_type": "execute_result",
          "data": {
            "text/plain": [
              "<matplotlib.collections.PathCollection at 0x7f7d216028f0>"
            ]
          },
          "metadata": {},
          "execution_count": 33
        },
        {
          "output_type": "display_data",
          "data": {
            "text/plain": [
              "<Figure size 640x480 with 1 Axes>"
            ],
            "image/png": "[encoded data removed]"
          },
          "metadata": {}
        }
      ]
    },
    {
      "cell_type": "markdown",
      "source": [
        "## Regression Evaluation Metrics\n",
        "\n",
        "\n",
        "Here are three common evaluation metrics for regression problems:\n",
        "\n",
        "**Mean Absolute Error** (MAE) is the mean of the absolute value of the errors:\n",
        "\n",
        "$$\\frac 1n\\sum_{i=1}^n|y_i-\\hat{y}_i|$$\n",
        "\n",
        "**Mean Squared Error** (MSE) is the mean of the squared errors:\n",
        "\n",
        "$$\\frac 1n\\sum_{i=1}^n(y_i-\\hat{y}_i)^2$$\n",
        "\n",
        "**Root Mean Squared Error** (RMSE) is the square root of the mean of the squared errors:\n",
        "\n",
        "$$\\sqrt{\\frac 1n\\sum_{i=1}^n(y_i-\\hat{y}_i)^2}$$\n",
        "\n",
        "Comparing these metrics:\n",
        "\n",
        "- **MAE** is the easiest to understand, because it's the average error.\n",
        "- **MSE** is more popular than MAE, because MSE \"punishes\" larger errors, which tends to be useful in the real world.\n",
        "- **RMSE** is even more popular than MSE, because RMSE is interpretable in the \"y\" units.\n",
        "\n",
        "All of these are **loss functions**, because we want to minimize them."
      ],
      "metadata": {
        "id": "RKrZciw5Q4Im"
      }
    },
    {
      "cell_type": "code",
      "source": [
        "95 - 90"
      ],
      "metadata": {
        "colab": {
          "base_uri": "https://localhost:8080/"
        },
        "id": "RDq7k7NjQ7es",
        "outputId": "2e0b5476-a220-4542-eff8-e64e6cb6dc7c"
      },
      "execution_count": 34,
      "outputs": [
        {
          "output_type": "execute_result",
          "data": {
            "text/plain": [
              "5"
            ]
          },
          "metadata": {},
          "execution_count": 34
        }
      ]
    },
    {
      "cell_type": "code",
      "source": [
        "80 - 85"
      ],
      "metadata": {
        "colab": {
          "base_uri": "https://localhost:8080/"
        },
        "id": "oHEOt8nSRMW3",
        "outputId": "174fa330-63ca-453c-b82d-b8c07c17e849"
      },
      "execution_count": 35,
      "outputs": [
        {
          "output_type": "execute_result",
          "data": {
            "text/plain": [
              "-5"
            ]
          },
          "metadata": {},
          "execution_count": 35
        }
      ]
    },
    {
      "cell_type": "code",
      "source": [
        "from sklearn import metrics"
      ],
      "metadata": {
        "id": "DpVYK0BvRQVE"
      },
      "execution_count": 37,
      "outputs": []
    },
    {
      "cell_type": "code",
      "source": [
        "print('MAE:', metrics.mean_absolute_error(y_test, y_pred))"
      ],
      "metadata": {
        "colab": {
          "base_uri": "https://localhost:8080/"
        },
        "id": "34sWyOFBR_rl",
        "outputId": "f25232a8-d060-4553-cb73-0204b46cf301"
      },
      "execution_count": 38,
      "outputs": [
        {
          "output_type": "stream",
          "name": "stdout",
          "text": [
            "MAE: 83790.54911398597\n"
          ]
        }
      ]
    },
    {
      "cell_type": "code",
      "source": [
        "print('MSE:', metrics.mean_squared_error(y_test, y_pred))"
      ],
      "metadata": {
        "colab": {
          "base_uri": "https://localhost:8080/"
        },
        "id": "dIK66KzURyvS",
        "outputId": "e3facfe2-0eb7-4fca-a495-5193ac9ea401"
      },
      "execution_count": 39,
      "outputs": [
        {
          "output_type": "stream",
          "name": "stdout",
          "text": [
            "MSE: 10622866013.739557\n"
          ]
        }
      ]
    },
    {
      "cell_type": "code",
      "source": [
        "print('RMSE:', np.sqrt(metrics.mean_squared_error(y_test, y_pred)))"
      ],
      "metadata": {
        "colab": {
          "base_uri": "https://localhost:8080/"
        },
        "id": "qpacxwYzSOTa",
        "outputId": "6123b574-d10f-4f18-ae89-84dbfb517dd5"
      },
      "execution_count": 40,
      "outputs": [
        {
          "output_type": "stream",
          "name": "stdout",
          "text": [
            "RMSE: 103067.288766803\n"
          ]
        }
      ]
    }
  ]
}